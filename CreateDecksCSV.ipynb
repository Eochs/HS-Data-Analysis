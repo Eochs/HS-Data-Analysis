{
 "metadata": {
  "name": "",
  "signature": "sha256:695840b16bc5953e1c7b77b4801afbef8cf574301323504a65812a1eb46b0e81"
 },
 "nbformat": 3,
 "nbformat_minor": 0,
 "worksheets": [
  {
   "cells": [
    {
     "cell_type": "markdown",
     "metadata": {},
     "source": [
      "Web Scraping!"
     ]
    },
    {
     "cell_type": "code",
     "collapsed": false,
     "input": [
      "from bs4 import BeautifulSoup as bsoup\n",
      "from urllib2 import urlopen\n",
      "import requests # maybe\n",
      "import pandas as pd"
     ],
     "language": "python",
     "metadata": {},
     "outputs": [],
     "prompt_number": 1
    },
    {
     "cell_type": "code",
     "collapsed": false,
     "input": [
      "from datetime import datetime\n",
      "\n",
      "# conversion functions\n",
      "\n",
      "def convertCosts(s):\n",
      "    if s[-1] == 'k':\n",
      "        return int(float(s[:-1]) * 1000)\n",
      "    else:\n",
      "        return int(s.replace(',', ''))\n",
      "    \n",
      "def convertDate(s):\n",
      "    date_object = datetime.strptime(s, '%m/%d/%Y %I:%M:%S %p')\n",
      "    return date_object\n",
      "\n",
      "print convertCosts('10.2k')\n",
      "print convertDate('4/4/2015 2:5:01 PM')"
     ],
     "language": "python",
     "metadata": {},
     "outputs": [
      {
       "output_type": "stream",
       "stream": "stdout",
       "text": [
        "10200\n",
        "2015-04-04 14:05:01\n"
       ]
      }
     ],
     "prompt_number": 3
    },
    {
     "cell_type": "code",
     "collapsed": false,
     "input": [
      "# helper function to get all cards in a deck\n",
      "def get_cards_in_deck(deck_url):\n",
      "    html = urlopen(deck_url).read()\n",
      "    soup = bsoup(html, \"html.parser\")\n",
      "    card_data = soup.select('td.col-name a[href^=/cards/]')\n",
      "    return [( c.text, int(c.parent.next_sibling[-3:-2]) ) for c in card_data]\n",
      "    # c.text gives card name\n",
      "    # c.parent.next_sibling[-3:-2] gets text that says \"X 1\" or \"X 2\" for number of that card in deck\n",
      "\n",
      "# example:\n",
      "#print get_cards_in_deck(\"http://www.hearthpwn.com/decks/130586-handlock-mechanization-_\")"
     ],
     "language": "python",
     "metadata": {},
     "outputs": [],
     "prompt_number": 4
    },
    {
     "cell_type": "markdown",
     "metadata": {},
     "source": [
      "We first run the code on a single page to get a sense of what the output will be. \n",
      "This cell will process the first page at hearthpwn with non-arena decks, that have been updated after the launch of Black Rock Mountain. "
     ]
    },
    {
     "cell_type": "code",
     "collapsed": false,
     "input": [
      "# test code\n",
      "\n",
      "test_brm_page = [\"http://www.hearthpwn.com/decks?filter-build=23&filter-deck-tag=5&filter-is-forge=2&filter-unreleased-cards=t\"]\n",
      "\n",
      "array_of_decks = []\n",
      "\n",
      "for page in test_brm_page: #page_list:\n",
      "    print \"Processing page\"  #{}...\".format(page[-1])\n",
      "    html = urlopen(page).read()    \n",
      "    soup = bsoup(html, \"html.parser\")\n",
      "    \n",
      "    # get list of all attributes and store in arrays for each of those attributes\n",
      "    # basically chooses a part of the page, the 'Deck Type' for example, then goes vertically down the page\n",
      "    # and gets all deck types and puts them into an array, making a column of deck types\n",
      "    deck_types = [td.string for td in soup.findAll(\"td\", class_=\"col-deck-type\")]\n",
      "    # mana curve: find the number of cards at each mana cost\n",
      "    # later combine them into array where index is mana cost\n",
      "    deck_bar_0 = [int(id0['data-count']) for id0 in soup.findAll(\"li\", {\"id\":\"deck-bar-0\"})]    \n",
      "    deck_bar_1 = [int(id1['data-count']) for id1 in soup.findAll(\"li\",{\"id\": \"deck-bar-1\"})]    \n",
      "    deck_bar_2 = [int(id2['data-count']) for id2 in soup.findAll(\"li\",{\"id\": \"deck-bar-2\"})]   \n",
      "    deck_bar_3 = [int(id3['data-count']) for id3 in soup.findAll(\"li\",{\"id\": \"deck-bar-3\"})]    \n",
      "    deck_bar_4 = [int(id4['data-count']) for id4 in soup.findAll(\"li\",{\"id\": \"deck-bar-4\"})]    \n",
      "    deck_bar_5 = [int(id5['data-count']) for id5 in soup.findAll(\"li\",{\"id\": \"deck-bar-5\"})]\n",
      "    deck_bar_6 = [int(id6['data-count']) for id6 in soup.findAll(\"li\",{\"id\": \"deck-bar-6\"})]    \n",
      "    deck_bar_7_plus = [int(id7p['data-count']) for id7p in soup.findAll(\"li\",{\"id\": \"deck-bar-7\"})]\n",
      "    # class of deck\n",
      "    deck_classes = [td.string for td in soup.findAll(\"td\", \"col-class\")]\n",
      "    # rating in upvotes for deck\n",
      "    deck_ratings = [int(div.string[1:]) for div in soup.findAll(\"div\", \"rating-sum rating-average rating-average-ratingPositive\")]\n",
      "    # cost in dust\n",
      "    deck_costs = [convertCosts(td.string) for td in soup.findAll(\"td\", \"col-dust-cost\")]\n",
      "    # date is too funky on hearthpwn, \n",
      "    date_updated = [convertDate(abbr.string) for abbr in soup.findAll(\"abbr\", \"tip standard-date standard-datetime\")]\n",
      "    # get deck links then go through and get cards for each deck\n",
      "    deck_links = ['http://www.hearthpwn.com' + dd.a[\"href\"] for dd in soup.findAll(\"td\", {\"class\" : \"col-name\"})]\n",
      "    for ith, link in enumerate(deck_links):\n",
      "        # update a new deck to add to the list\n",
      "        if deck_types[ith] == 'PvE Adventure':           \n",
      "            continue # Only want decks used for constructed\n",
      "        new_deck = {} \n",
      "        # Now for each new deck, we go through our columns, and populate the ith row using the column values\n",
      "        new_deck['Deck Type'] = deck_types[ith]\n",
      "        new_deck['Mana Curve'] = [deck_bar_0[ith]]+[deck_bar_1[ith]]+[deck_bar_2[ith]]+[deck_bar_3[ith]]+[deck_bar_4[ith]]+[deck_bar_5[ith]]+[deck_bar_6[ith]]+[deck_bar_7_plus[ith]]\n",
      "        new_deck['Class'] = deck_classes[ith]\n",
      "        new_deck['Rating'] = deck_ratings[ith]\n",
      "        new_deck['Dust'] = deck_costs[ith]\n",
      "        new_deck['Updated'] = date_updated[ith]\n",
      "        # next we get all the cards in the deck using that deck url\n",
      "        for card, count in get_cards_in_deck(link):\n",
      "            new_deck[card] = count\n",
      "        # we then put this deck/dictionary into our array of decks.\n",
      "        array_of_decks.append(new_deck)\n",
      "        \n",
      "print len(array_of_decks)\n"
     ],
     "language": "python",
     "metadata": {},
     "outputs": [
      {
       "output_type": "stream",
       "stream": "stdout",
       "text": [
        "Processing page #t...\n",
        "22"
       ]
      },
      {
       "output_type": "stream",
       "stream": "stdout",
       "text": [
        "\n"
       ]
      }
     ],
     "prompt_number": 5
    },
    {
     "cell_type": "markdown",
     "metadata": {},
     "source": [
      "Create a Data Frame from our list of dictionaries, replace the 'NA' values with zero. Then switch the column names so that 'Class, Deck Type, Rating, Dust' and the mana curve is at the front."
     ]
    },
    {
     "cell_type": "code",
     "collapsed": false,
     "input": [
      "df = pd.DataFrame(array_of_decks).fillna(int(0))\n",
      "cols = df.columns.tolist()\n",
      "# Want beginning of dataframe to be: Class, Deck Type, Rating, Dust, Updated, Mana Curve\n",
      "for name in ['Mana Curve','Updated','Dust','Rating','Deck Type','Class']:\n",
      "    ci = cols.index(name)\n",
      "    cols = [cols[ci]] + cols[:ci] + cols[ci+1:]\n",
      "\n",
      "df = df[cols]"
     ],
     "language": "python",
     "metadata": {},
     "outputs": [],
     "prompt_number": 65
    },
    {
     "cell_type": "code",
     "collapsed": false,
     "input": [
      "df.head()"
     ],
     "language": "python",
     "metadata": {},
     "outputs": [
      {
       "html": [
        "<div style=\"max-height:1000px;max-width:1500px;overflow:auto;\">\n",
        "<table border=\"1\" class=\"dataframe\">\n",
        "  <thead>\n",
        "    <tr style=\"text-align: right;\">\n",
        "      <th></th>\n",
        "      <th>Class</th>\n",
        "      <th>Deck Type</th>\n",
        "      <th>Rating</th>\n",
        "      <th>Dust</th>\n",
        "      <th>Updated</th>\n",
        "      <th>Mana Curve</th>\n",
        "      <th>Abusive Sergeant</th>\n",
        "      <th>Acolyte of Pain</th>\n",
        "      <th>Aldor Peacekeeper</th>\n",
        "      <th>Alexstrasza</th>\n",
        "      <th>...</th>\n",
        "      <th>Warsong Commander</th>\n",
        "      <th>Webspinner</th>\n",
        "      <th>Whirlwind</th>\n",
        "      <th>Wild Growth</th>\n",
        "      <th>Wild Pyromancer</th>\n",
        "      <th>Wolfrider</th>\n",
        "      <th>Worgen Infiltrator</th>\n",
        "      <th>Wrath</th>\n",
        "      <th>Ysera</th>\n",
        "      <th>Zombie Chow</th>\n",
        "    </tr>\n",
        "  </thead>\n",
        "  <tbody>\n",
        "    <tr>\n",
        "      <th>0</th>\n",
        "      <td>   Rogue</td>\n",
        "      <td> Midrange</td>\n",
        "      <td> 1354</td>\n",
        "      <td> 5260</td>\n",
        "      <td>2015-04-25 14:45:31</td>\n",
        "      <td>   [4, 2, 8, 7, 2, 4, 0, 3]</td>\n",
        "      <td> 0</td>\n",
        "      <td> 0</td>\n",
        "      <td> 0</td>\n",
        "      <td> 0</td>\n",
        "      <td>...</td>\n",
        "      <td> 0</td>\n",
        "      <td> 0</td>\n",
        "      <td> 0</td>\n",
        "      <td> 0</td>\n",
        "      <td> 0</td>\n",
        "      <td> 0</td>\n",
        "      <td> 0</td>\n",
        "      <td> 0</td>\n",
        "      <td> 0</td>\n",
        "      <td> 0</td>\n",
        "    </tr>\n",
        "    <tr>\n",
        "      <th>1</th>\n",
        "      <td>    Mage</td>\n",
        "      <td>     None</td>\n",
        "      <td>  593</td>\n",
        "      <td> 5760</td>\n",
        "      <td>2015-04-07 12:25:24</td>\n",
        "      <td>   [0, 1, 8, 6, 5, 5, 2, 3]</td>\n",
        "      <td> 0</td>\n",
        "      <td> 2</td>\n",
        "      <td> 0</td>\n",
        "      <td> 0</td>\n",
        "      <td>...</td>\n",
        "      <td> 0</td>\n",
        "      <td> 0</td>\n",
        "      <td> 0</td>\n",
        "      <td> 0</td>\n",
        "      <td> 0</td>\n",
        "      <td> 0</td>\n",
        "      <td> 0</td>\n",
        "      <td> 0</td>\n",
        "      <td> 0</td>\n",
        "      <td> 0</td>\n",
        "    </tr>\n",
        "    <tr>\n",
        "      <th>2</th>\n",
        "      <td>  Hunter</td>\n",
        "      <td>    Aggro</td>\n",
        "      <td>  534</td>\n",
        "      <td> 2640</td>\n",
        "      <td>2015-04-02 18:20:36</td>\n",
        "      <td> [1, 5, 12, 11, 0, 1, 0, 0]</td>\n",
        "      <td> 2</td>\n",
        "      <td> 0</td>\n",
        "      <td> 0</td>\n",
        "      <td> 0</td>\n",
        "      <td>...</td>\n",
        "      <td> 0</td>\n",
        "      <td> 0</td>\n",
        "      <td> 0</td>\n",
        "      <td> 0</td>\n",
        "      <td> 0</td>\n",
        "      <td> 2</td>\n",
        "      <td> 1</td>\n",
        "      <td> 0</td>\n",
        "      <td> 0</td>\n",
        "      <td> 0</td>\n",
        "    </tr>\n",
        "    <tr>\n",
        "      <th>3</th>\n",
        "      <td> Warrior</td>\n",
        "      <td>    Combo</td>\n",
        "      <td>  512</td>\n",
        "      <td>  700</td>\n",
        "      <td>2015-04-19 21:13:47</td>\n",
        "      <td>  [0, 4, 11, 6, 6, 2, 1, 0]</td>\n",
        "      <td> 0</td>\n",
        "      <td> 2</td>\n",
        "      <td> 0</td>\n",
        "      <td> 0</td>\n",
        "      <td>...</td>\n",
        "      <td> 2</td>\n",
        "      <td> 0</td>\n",
        "      <td> 2</td>\n",
        "      <td> 0</td>\n",
        "      <td> 0</td>\n",
        "      <td> 0</td>\n",
        "      <td> 0</td>\n",
        "      <td> 0</td>\n",
        "      <td> 0</td>\n",
        "      <td> 0</td>\n",
        "    </tr>\n",
        "    <tr>\n",
        "      <th>4</th>\n",
        "      <td>  Hunter</td>\n",
        "      <td>    Combo</td>\n",
        "      <td>  460</td>\n",
        "      <td> 1640</td>\n",
        "      <td>2015-04-06 11:09:07</td>\n",
        "      <td>  [2, 3, 11, 8, 2, 2, 2, 0]</td>\n",
        "      <td> 0</td>\n",
        "      <td> 0</td>\n",
        "      <td> 0</td>\n",
        "      <td> 0</td>\n",
        "      <td>...</td>\n",
        "      <td> 0</td>\n",
        "      <td> 2</td>\n",
        "      <td> 0</td>\n",
        "      <td> 0</td>\n",
        "      <td> 0</td>\n",
        "      <td> 0</td>\n",
        "      <td> 0</td>\n",
        "      <td> 0</td>\n",
        "      <td> 0</td>\n",
        "      <td> 0</td>\n",
        "    </tr>\n",
        "  </tbody>\n",
        "</table>\n",
        "<p>5 rows \u00d7 199 columns</p>\n",
        "</div>"
       ],
       "metadata": {},
       "output_type": "pyout",
       "prompt_number": 66,
       "text": [
        "     Class Deck Type  Rating  Dust             Updated  \\\n",
        "0    Rogue  Midrange    1354  5260 2015-04-25 14:45:31   \n",
        "1     Mage      None     593  5760 2015-04-07 12:25:24   \n",
        "2   Hunter     Aggro     534  2640 2015-04-02 18:20:36   \n",
        "3  Warrior     Combo     512   700 2015-04-19 21:13:47   \n",
        "4   Hunter     Combo     460  1640 2015-04-06 11:09:07   \n",
        "\n",
        "                   Mana Curve  Abusive Sergeant  Acolyte of Pain  \\\n",
        "0    [4, 2, 8, 7, 2, 4, 0, 3]                 0                0   \n",
        "1    [0, 1, 8, 6, 5, 5, 2, 3]                 0                2   \n",
        "2  [1, 5, 12, 11, 0, 1, 0, 0]                 2                0   \n",
        "3   [0, 4, 11, 6, 6, 2, 1, 0]                 0                2   \n",
        "4   [2, 3, 11, 8, 2, 2, 2, 0]                 0                0   \n",
        "\n",
        "   Aldor Peacekeeper  Alexstrasza     ...       Warsong Commander  Webspinner  \\\n",
        "0                  0            0     ...                       0           0   \n",
        "1                  0            0     ...                       0           0   \n",
        "2                  0            0     ...                       0           0   \n",
        "3                  0            0     ...                       2           0   \n",
        "4                  0            0     ...                       0           2   \n",
        "\n",
        "   Whirlwind  Wild Growth  Wild Pyromancer  Wolfrider  Worgen Infiltrator  \\\n",
        "0          0            0                0          0                   0   \n",
        "1          0            0                0          0                   0   \n",
        "2          0            0                0          2                   1   \n",
        "3          2            0                0          0                   0   \n",
        "4          0            0                0          0                   0   \n",
        "\n",
        "   Wrath  Ysera  Zombie Chow  \n",
        "0      0      0            0  \n",
        "1      0      0            0  \n",
        "2      0      0            0  \n",
        "3      0      0            0  \n",
        "4      0      0            0  \n",
        "\n",
        "[5 rows x 199 columns]"
       ]
      }
     ],
     "prompt_number": 66
    },
    {
     "cell_type": "markdown",
     "metadata": {},
     "source": [
      "Now that we have our decks properly formatted, export them to a csv file."
     ]
    },
    {
     "cell_type": "code",
     "collapsed": false,
     "input": [
      "df.to_csv('test.csv')"
     ],
     "language": "python",
     "metadata": {},
     "outputs": [],
     "prompt_number": 30
    },
    {
     "cell_type": "markdown",
     "metadata": {},
     "source": [
      "So now that we know our code runs for a single page, we can create an array of all the pages we want to scrape. Below I've created an array of all pages for decks that are either post the 'Undertaker Nerf' or after the Blackrock Mountain Release. "
     ]
    },
    {
     "cell_type": "code",
     "collapsed": false,
     "input": [
      "# for post undertaker nerf and BRM release\n",
      "base_url_post_brm = 'http://www.hearthpwn.com/decks?filter-build=23&filter-deck-tag=5&filter-is-forge=2&filter-unreleased-cards=t'\n",
      "page_list_brm = [\"{}&page={}\".format(base_url_post_brm, str(page)) for page in range(1, 9)] # 9 pages have >= 2 upvotes\n",
      "\n",
      "base_url_undertaker_nerf = 'http://www.hearthpwn.com/decks?filter-build=22&filter-deck-tag=5&filter-is-forge=2&filter-unreleased-cards=t'\n",
      "page_list_un = [\"{}&page={}\".format(base_url_undertaker_nerf, str(page)) for page in range(1, 90)] # 90 pages have >= 2 upvotes\n",
      "\n",
      "# combine the urls to get all the pages we want to scrape\n",
      "page_list = page_list_brm + page_list_un"
     ],
     "language": "python",
     "metadata": {},
     "outputs": [],
     "prompt_number": 2
    },
    {
     "cell_type": "markdown",
     "metadata": {},
     "source": [
      "To do this we use Hearthpwn's search filters, setting 'Arena' to 'No', and we find get all the pages that have decks with >= 2 upvotes. "
     ]
    },
    {
     "cell_type": "markdown",
     "metadata": {},
     "source": [
      "Next we simply run our previous code over these pages."
     ]
    },
    {
     "cell_type": "code",
     "collapsed": false,
     "input": [
      "array_of_decks = []\n",
      "\n",
      "for page in page_list:\n",
      "    print \"Processing page #{}...\".format(page[-1])\n",
      "    html = urlopen(page).read()    \n",
      "    soup = bsoup(html, \"html.parser\")\n",
      "    \n",
      "    # get list of all attributes and store\n",
      "    deck_types = [td.string for td in soup.findAll(\"td\", class_=\"col-deck-type\")]\n",
      "    # mana curve: find the number of cards at each mana cost\n",
      "    # later combine them into array where index is mana cost\n",
      "    deck_bar_0 = [int(id0['data-count']) for id0 in soup.findAll(\"li\", {\"id\":\"deck-bar-0\"})]    \n",
      "    deck_bar_1 = [int(id1['data-count']) for id1 in soup.findAll(\"li\",{\"id\": \"deck-bar-1\"})]    \n",
      "    deck_bar_2 = [int(id2['data-count']) for id2 in soup.findAll(\"li\",{\"id\": \"deck-bar-2\"})]   \n",
      "    deck_bar_3 = [int(id3['data-count']) for id3 in soup.findAll(\"li\",{\"id\": \"deck-bar-3\"})]    \n",
      "    deck_bar_4 = [int(id4['data-count']) for id4 in soup.findAll(\"li\",{\"id\": \"deck-bar-4\"})]    \n",
      "    deck_bar_5 = [int(id5['data-count']) for id5 in soup.findAll(\"li\",{\"id\": \"deck-bar-5\"})]\n",
      "    deck_bar_6 = [int(id6['data-count']) for id6 in soup.findAll(\"li\",{\"id\": \"deck-bar-6\"})]    \n",
      "    deck_bar_7_plus = [int(id7p['data-count']) for id7p in soup.findAll(\"li\",{\"id\": \"deck-bar-7\"})]\n",
      "    # class of deck\n",
      "    deck_classes = [td.string for td in soup.findAll(\"td\", \"col-class\")]\n",
      "    # rating in upvotes for deck\n",
      "    deck_ratings = [int(div.string[1:]) for div in soup.findAll(\"div\", \"rating-sum rating-average rating-average-ratingPositive\")]\n",
      "    # cost in dust\n",
      "    deck_costs = [convertCosts(td.string) for td in soup.findAll(\"td\", \"col-dust-cost\")]\n",
      "    # date is too funky on hearthpwn, \n",
      "    date_updated = [convertDate(abbr.string) for abbr in soup.findAll(\"abbr\", \"tip standard-date standard-datetime\")]\n",
      "    # get deck links then go through and get cards for each deck\n",
      "    deck_links = ['http://www.hearthpwn.com' + dd.a[\"href\"] for dd in soup.findAll(\"td\", {\"class\" : \"col-name\"})]\n",
      "    for ith, link in enumerate(deck_links):\n",
      "        # update a new deck to add to the list\n",
      "        if deck_types[ith] == 'PvE Adventure':           \n",
      "            continue # Only want decks used for constructed\n",
      "        new_deck = {} \n",
      "        new_deck['Deck Type'] = deck_types[ith]\n",
      "        #new_deck['Mana 0'] = deck_bar_0[ith]\n",
      "        #new_deck['Mana 1'] = deck_bar_1[ith]\n",
      "        #new_deck['Mana 2'] = deck_bar_2[ith]\n",
      "        #new_deck['Mana 3'] = deck_bar_3[ith]\n",
      "        #new_deck['Mana 4'] = deck_bar_4[ith]\n",
      "        #new_deck['Mana 5'] = deck_bar_5[ith]\n",
      "        #new_deck['Mana 6'] = deck_bar_6[ith]\n",
      "        #new_deck['Mana 7+'] = deck_bar_7_plus[ith]\n",
      "        new_deck['Mana Curve'] = [deck_bar_0[ith]]+[deck_bar_1[ith]]+[deck_bar_2[ith]]+[deck_bar_3[ith]]+[deck_bar_4[ith]]+[deck_bar_5[ith]]+[deck_bar_6[ith]]+[deck_bar_7_plus[ith]]\n",
      "        new_deck['Class'] = deck_classes[ith]\n",
      "        new_deck['Rating'] = deck_ratings[ith]\n",
      "        new_deck['Dust'] = deck_costs[ith]\n",
      "        new_deck['Updated'] = date_updated[ith]\n",
      "        \n",
      "        for card, count in get_cards_in_deck(link):\n",
      "            new_deck[card] = count\n",
      "        \n",
      "        array_of_decks.append(new_deck)\n",
      "        \n",
      "print \"Done with scraping!\"\n",
      "print \"Now putting into data frame\"\n",
      "\n",
      "df = pd.DataFrame(array_of_decks).fillna(int(0))\n",
      "cols = df.columns.tolist()\n",
      "# Want beginning of dataframe to be: Class, Deck Type, Rating, Dust, Updated, Mana Curve\n",
      "for name in ['Mana Curve','Updated','Dust','Rating','Deck Type','Class']:\n",
      "    ci = cols.index(name)\n",
      "    cols = [cols[ci]] + cols[:ci] + cols[ci+1:]\n",
      "\n",
      "df = df[cols]\n",
      "\n",
      "\n",
      "print \"Data Frame done, now making decks.csv\"\n",
      "df.to_csv('decks.csv')\n",
      "print \"All done!\"\n"
     ],
     "language": "python",
     "metadata": {},
     "outputs": [
      {
       "output_type": "stream",
       "stream": "stdout",
       "text": [
        "Processing page #1...\n",
        "Processing page #2..."
       ]
      },
      {
       "output_type": "stream",
       "stream": "stdout",
       "text": [
        "\n",
        "Processing page #3..."
       ]
      },
      {
       "output_type": "stream",
       "stream": "stdout",
       "text": [
        "\n",
        "Processing page #4..."
       ]
      },
      {
       "output_type": "stream",
       "stream": "stdout",
       "text": [
        "\n",
        "Processing page #5..."
       ]
      },
      {
       "output_type": "stream",
       "stream": "stdout",
       "text": [
        "\n",
        "Processing page #6..."
       ]
      },
      {
       "output_type": "stream",
       "stream": "stdout",
       "text": [
        "\n",
        "Processing page #7..."
       ]
      },
      {
       "output_type": "stream",
       "stream": "stdout",
       "text": [
        "\n",
        "Processing page #8..."
       ]
      },
      {
       "output_type": "stream",
       "stream": "stdout",
       "text": [
        "\n",
        "Processing page #1..."
       ]
      },
      {
       "output_type": "stream",
       "stream": "stdout",
       "text": [
        "\n",
        "Processing page #2..."
       ]
      },
      {
       "output_type": "stream",
       "stream": "stdout",
       "text": [
        "\n",
        "Processing page #3..."
       ]
      },
      {
       "output_type": "stream",
       "stream": "stdout",
       "text": [
        "\n",
        "Processing page #4..."
       ]
      },
      {
       "output_type": "stream",
       "stream": "stdout",
       "text": [
        "\n",
        "Processing page #5..."
       ]
      },
      {
       "output_type": "stream",
       "stream": "stdout",
       "text": [
        "\n",
        "Processing page #6..."
       ]
      },
      {
       "output_type": "stream",
       "stream": "stdout",
       "text": [
        "\n",
        "Processing page #7..."
       ]
      },
      {
       "output_type": "stream",
       "stream": "stdout",
       "text": [
        "\n",
        "Processing page #8..."
       ]
      },
      {
       "output_type": "stream",
       "stream": "stdout",
       "text": [
        "\n",
        "Processing page #9..."
       ]
      },
      {
       "output_type": "stream",
       "stream": "stdout",
       "text": [
        "\n",
        "Processing page #0..."
       ]
      },
      {
       "output_type": "stream",
       "stream": "stdout",
       "text": [
        "\n",
        "Processing page #1..."
       ]
      },
      {
       "output_type": "stream",
       "stream": "stdout",
       "text": [
        "\n",
        "Processing page #2..."
       ]
      },
      {
       "output_type": "stream",
       "stream": "stdout",
       "text": [
        "\n",
        "Processing page #3..."
       ]
      },
      {
       "output_type": "stream",
       "stream": "stdout",
       "text": [
        "\n",
        "Processing page #4..."
       ]
      },
      {
       "output_type": "stream",
       "stream": "stdout",
       "text": [
        "\n",
        "Processing page #5..."
       ]
      },
      {
       "output_type": "stream",
       "stream": "stdout",
       "text": [
        "\n",
        "Processing page #6..."
       ]
      },
      {
       "output_type": "stream",
       "stream": "stdout",
       "text": [
        "\n",
        "Processing page #7..."
       ]
      },
      {
       "output_type": "stream",
       "stream": "stdout",
       "text": [
        "\n",
        "Processing page #8..."
       ]
      },
      {
       "output_type": "stream",
       "stream": "stdout",
       "text": [
        "\n",
        "Processing page #9..."
       ]
      },
      {
       "output_type": "stream",
       "stream": "stdout",
       "text": [
        "\n",
        "Processing page #0..."
       ]
      },
      {
       "output_type": "stream",
       "stream": "stdout",
       "text": [
        "\n",
        "Processing page #1..."
       ]
      },
      {
       "output_type": "stream",
       "stream": "stdout",
       "text": [
        "\n",
        "Processing page #2..."
       ]
      },
      {
       "output_type": "stream",
       "stream": "stdout",
       "text": [
        "\n",
        "Processing page #3..."
       ]
      },
      {
       "output_type": "stream",
       "stream": "stdout",
       "text": [
        "\n",
        "Processing page #4..."
       ]
      },
      {
       "output_type": "stream",
       "stream": "stdout",
       "text": [
        "\n",
        "Processing page #5..."
       ]
      },
      {
       "output_type": "stream",
       "stream": "stdout",
       "text": [
        "\n",
        "Processing page #6..."
       ]
      },
      {
       "output_type": "stream",
       "stream": "stdout",
       "text": [
        "\n",
        "Processing page #7..."
       ]
      },
      {
       "output_type": "stream",
       "stream": "stdout",
       "text": [
        "\n",
        "Processing page #8..."
       ]
      },
      {
       "output_type": "stream",
       "stream": "stdout",
       "text": [
        "\n",
        "Processing page #9..."
       ]
      },
      {
       "output_type": "stream",
       "stream": "stdout",
       "text": [
        "\n",
        "Processing page #0..."
       ]
      },
      {
       "output_type": "stream",
       "stream": "stdout",
       "text": [
        "\n",
        "Processing page #1..."
       ]
      },
      {
       "output_type": "stream",
       "stream": "stdout",
       "text": [
        "\n",
        "Processing page #2..."
       ]
      },
      {
       "output_type": "stream",
       "stream": "stdout",
       "text": [
        "\n",
        "Processing page #3..."
       ]
      },
      {
       "output_type": "stream",
       "stream": "stdout",
       "text": [
        "\n",
        "Processing page #4..."
       ]
      },
      {
       "output_type": "stream",
       "stream": "stdout",
       "text": [
        "\n",
        "Processing page #5..."
       ]
      },
      {
       "output_type": "stream",
       "stream": "stdout",
       "text": [
        "\n",
        "Processing page #6..."
       ]
      },
      {
       "output_type": "stream",
       "stream": "stdout",
       "text": [
        "\n",
        "Processing page #7..."
       ]
      },
      {
       "output_type": "stream",
       "stream": "stdout",
       "text": [
        "\n",
        "Processing page #8..."
       ]
      },
      {
       "output_type": "stream",
       "stream": "stdout",
       "text": [
        "\n",
        "Processing page #9..."
       ]
      },
      {
       "output_type": "stream",
       "stream": "stdout",
       "text": [
        "\n",
        "Processing page #0..."
       ]
      },
      {
       "output_type": "stream",
       "stream": "stdout",
       "text": [
        "\n",
        "Processing page #1..."
       ]
      },
      {
       "output_type": "stream",
       "stream": "stdout",
       "text": [
        "\n",
        "Processing page #2..."
       ]
      },
      {
       "output_type": "stream",
       "stream": "stdout",
       "text": [
        "\n",
        "Processing page #3..."
       ]
      },
      {
       "output_type": "stream",
       "stream": "stdout",
       "text": [
        "\n",
        "Processing page #4..."
       ]
      },
      {
       "output_type": "stream",
       "stream": "stdout",
       "text": [
        "\n",
        "Processing page #5..."
       ]
      },
      {
       "output_type": "stream",
       "stream": "stdout",
       "text": [
        "\n",
        "Processing page #6..."
       ]
      },
      {
       "output_type": "stream",
       "stream": "stdout",
       "text": [
        "\n",
        "Processing page #7..."
       ]
      },
      {
       "output_type": "stream",
       "stream": "stdout",
       "text": [
        "\n",
        "Processing page #8..."
       ]
      },
      {
       "output_type": "stream",
       "stream": "stdout",
       "text": [
        "\n",
        "Processing page #9..."
       ]
      },
      {
       "output_type": "stream",
       "stream": "stdout",
       "text": [
        "\n",
        "Processing page #0..."
       ]
      },
      {
       "output_type": "stream",
       "stream": "stdout",
       "text": [
        "\n",
        "Processing page #1..."
       ]
      },
      {
       "output_type": "stream",
       "stream": "stdout",
       "text": [
        "\n",
        "Processing page #2..."
       ]
      },
      {
       "output_type": "stream",
       "stream": "stdout",
       "text": [
        "\n",
        "Processing page #3..."
       ]
      },
      {
       "output_type": "stream",
       "stream": "stdout",
       "text": [
        "\n",
        "Processing page #4..."
       ]
      },
      {
       "output_type": "stream",
       "stream": "stdout",
       "text": [
        "\n",
        "Processing page #5..."
       ]
      },
      {
       "output_type": "stream",
       "stream": "stdout",
       "text": [
        "\n",
        "Processing page #6..."
       ]
      },
      {
       "output_type": "stream",
       "stream": "stdout",
       "text": [
        "\n",
        "Processing page #7..."
       ]
      },
      {
       "output_type": "stream",
       "stream": "stdout",
       "text": [
        "\n",
        "Processing page #8..."
       ]
      },
      {
       "output_type": "stream",
       "stream": "stdout",
       "text": [
        "\n",
        "Processing page #9..."
       ]
      },
      {
       "output_type": "stream",
       "stream": "stdout",
       "text": [
        "\n",
        "Processing page #0..."
       ]
      },
      {
       "output_type": "stream",
       "stream": "stdout",
       "text": [
        "\n",
        "Processing page #1..."
       ]
      },
      {
       "output_type": "stream",
       "stream": "stdout",
       "text": [
        "\n",
        "Processing page #2..."
       ]
      },
      {
       "output_type": "stream",
       "stream": "stdout",
       "text": [
        "\n",
        "Processing page #3..."
       ]
      },
      {
       "output_type": "stream",
       "stream": "stdout",
       "text": [
        "\n",
        "Processing page #4..."
       ]
      },
      {
       "output_type": "stream",
       "stream": "stdout",
       "text": [
        "\n",
        "Processing page #5..."
       ]
      },
      {
       "output_type": "stream",
       "stream": "stdout",
       "text": [
        "\n",
        "Processing page #6..."
       ]
      },
      {
       "output_type": "stream",
       "stream": "stdout",
       "text": [
        "\n",
        "Processing page #7..."
       ]
      },
      {
       "output_type": "stream",
       "stream": "stdout",
       "text": [
        "\n",
        "Processing page #8..."
       ]
      },
      {
       "output_type": "stream",
       "stream": "stdout",
       "text": [
        "\n",
        "Processing page #9..."
       ]
      },
      {
       "output_type": "stream",
       "stream": "stdout",
       "text": [
        "\n",
        "Processing page #0..."
       ]
      },
      {
       "output_type": "stream",
       "stream": "stdout",
       "text": [
        "\n",
        "Processing page #1..."
       ]
      },
      {
       "output_type": "stream",
       "stream": "stdout",
       "text": [
        "\n",
        "Processing page #2..."
       ]
      },
      {
       "output_type": "stream",
       "stream": "stdout",
       "text": [
        "\n",
        "Processing page #3..."
       ]
      },
      {
       "output_type": "stream",
       "stream": "stdout",
       "text": [
        "\n",
        "Processing page #4..."
       ]
      },
      {
       "output_type": "stream",
       "stream": "stdout",
       "text": [
        "\n",
        "Processing page #5..."
       ]
      },
      {
       "output_type": "stream",
       "stream": "stdout",
       "text": [
        "\n",
        "Processing page #6..."
       ]
      },
      {
       "output_type": "stream",
       "stream": "stdout",
       "text": [
        "\n",
        "Processing page #7..."
       ]
      },
      {
       "output_type": "stream",
       "stream": "stdout",
       "text": [
        "\n",
        "Processing page #8..."
       ]
      },
      {
       "output_type": "stream",
       "stream": "stdout",
       "text": [
        "\n",
        "Processing page #9..."
       ]
      },
      {
       "output_type": "stream",
       "stream": "stdout",
       "text": [
        "\n",
        "Processing page #0..."
       ]
      },
      {
       "output_type": "stream",
       "stream": "stdout",
       "text": [
        "\n",
        "Processing page #1..."
       ]
      },
      {
       "output_type": "stream",
       "stream": "stdout",
       "text": [
        "\n",
        "Processing page #2..."
       ]
      },
      {
       "output_type": "stream",
       "stream": "stdout",
       "text": [
        "\n",
        "Processing page #3..."
       ]
      },
      {
       "output_type": "stream",
       "stream": "stdout",
       "text": [
        "\n",
        "Processing page #4..."
       ]
      },
      {
       "output_type": "stream",
       "stream": "stdout",
       "text": [
        "\n",
        "Processing page #5..."
       ]
      },
      {
       "output_type": "stream",
       "stream": "stdout",
       "text": [
        "\n",
        "Processing page #6..."
       ]
      },
      {
       "output_type": "stream",
       "stream": "stdout",
       "text": [
        "\n",
        "Processing page #7..."
       ]
      },
      {
       "output_type": "stream",
       "stream": "stdout",
       "text": [
        "\n",
        "Processing page #8..."
       ]
      },
      {
       "output_type": "stream",
       "stream": "stdout",
       "text": [
        "\n",
        "Processing page #9..."
       ]
      },
      {
       "output_type": "stream",
       "stream": "stdout",
       "text": [
        "\n",
        "Done with scraping!"
       ]
      },
      {
       "output_type": "stream",
       "stream": "stdout",
       "text": [
        "\n",
        "Now putting into data frame\n",
        "Data Frame done, now making decks.csv"
       ]
      },
      {
       "output_type": "stream",
       "stream": "stdout",
       "text": [
        "\n",
        "All done!"
       ]
      },
      {
       "output_type": "stream",
       "stream": "stdout",
       "text": [
        "\n"
       ]
      }
     ],
     "prompt_number": 9
    },
    {
     "cell_type": "code",
     "collapsed": false,
     "input": [
      "len(df)"
     ],
     "language": "python",
     "metadata": {},
     "outputs": [
      {
       "metadata": {},
       "output_type": "pyout",
       "prompt_number": 10,
       "text": [
        "2369"
       ]
      }
     ],
     "prompt_number": 10
    },
    {
     "cell_type": "code",
     "collapsed": false,
     "input": [
      "df.tail()"
     ],
     "language": "python",
     "metadata": {},
     "outputs": [
      {
       "html": [
        "<div style=\"max-height:1000px;max-width:1500px;overflow:auto;\">\n",
        "<table border=\"1\" class=\"dataframe\">\n",
        "  <thead>\n",
        "    <tr style=\"text-align: right;\">\n",
        "      <th></th>\n",
        "      <th>Class</th>\n",
        "      <th>Deck Type</th>\n",
        "      <th>Rating</th>\n",
        "      <th>Dust</th>\n",
        "      <th>Updated</th>\n",
        "      <th>Mana Curve</th>\n",
        "      <th>Abomination</th>\n",
        "      <th>Abusive Sergeant</th>\n",
        "      <th>Acidic Swamp Ooze</th>\n",
        "      <th>Acolyte of Pain</th>\n",
        "      <th>...</th>\n",
        "      <th>Windspeaker</th>\n",
        "      <th>Wisp</th>\n",
        "      <th>Wolfrider</th>\n",
        "      <th>Worgen Infiltrator</th>\n",
        "      <th>Wrath</th>\n",
        "      <th>Young Dragonhawk</th>\n",
        "      <th>Young Priestess</th>\n",
        "      <th>Youthful Brewmaster</th>\n",
        "      <th>Ysera</th>\n",
        "      <th>Zombie Chow</th>\n",
        "    </tr>\n",
        "  </thead>\n",
        "  <tbody>\n",
        "    <tr>\n",
        "      <th>2364</th>\n",
        "      <td> Paladin</td>\n",
        "      <td>    Control</td>\n",
        "      <td> 2</td>\n",
        "      <td> 8560</td>\n",
        "      <td>2015-03-21 05:00:52</td>\n",
        "      <td>  [0, 1, 6, 7, 6, 3, 1, 6]</td>\n",
        "      <td> 0</td>\n",
        "      <td> 0</td>\n",
        "      <td> 0</td>\n",
        "      <td> 0</td>\n",
        "      <td>...</td>\n",
        "      <td> 0</td>\n",
        "      <td> 0</td>\n",
        "      <td> 0</td>\n",
        "      <td> 0</td>\n",
        "      <td> 0</td>\n",
        "      <td> 0</td>\n",
        "      <td> 0</td>\n",
        "      <td> 0</td>\n",
        "      <td> 0</td>\n",
        "      <td> 1</td>\n",
        "    </tr>\n",
        "    <tr>\n",
        "      <th>2365</th>\n",
        "      <td>   Druid</td>\n",
        "      <td>    Control</td>\n",
        "      <td> 2</td>\n",
        "      <td> 5580</td>\n",
        "      <td>2015-03-18 09:53:53</td>\n",
        "      <td>  [1, 1, 9, 5, 6, 4, 1, 3]</td>\n",
        "      <td> 0</td>\n",
        "      <td> 0</td>\n",
        "      <td> 0</td>\n",
        "      <td> 0</td>\n",
        "      <td>...</td>\n",
        "      <td> 0</td>\n",
        "      <td> 0</td>\n",
        "      <td> 0</td>\n",
        "      <td> 0</td>\n",
        "      <td> 2</td>\n",
        "      <td> 0</td>\n",
        "      <td> 0</td>\n",
        "      <td> 0</td>\n",
        "      <td> 0</td>\n",
        "      <td> 1</td>\n",
        "    </tr>\n",
        "    <tr>\n",
        "      <th>2366</th>\n",
        "      <td>   Druid</td>\n",
        "      <td>       None</td>\n",
        "      <td> 2</td>\n",
        "      <td> 4920</td>\n",
        "      <td>2015-03-18 09:04:29</td>\n",
        "      <td> [0, 2, 4, 8, 10, 3, 0, 3]</td>\n",
        "      <td> 0</td>\n",
        "      <td> 0</td>\n",
        "      <td> 0</td>\n",
        "      <td> 0</td>\n",
        "      <td>...</td>\n",
        "      <td> 0</td>\n",
        "      <td> 0</td>\n",
        "      <td> 0</td>\n",
        "      <td> 0</td>\n",
        "      <td> 2</td>\n",
        "      <td> 0</td>\n",
        "      <td> 0</td>\n",
        "      <td> 0</td>\n",
        "      <td> 0</td>\n",
        "      <td> 0</td>\n",
        "    </tr>\n",
        "    <tr>\n",
        "      <th>2367</th>\n",
        "      <td>   Druid</td>\n",
        "      <td>       None</td>\n",
        "      <td> 2</td>\n",
        "      <td> 1720</td>\n",
        "      <td>2015-03-18 09:50:32</td>\n",
        "      <td> [4, 4, 8, 10, 4, 0, 0, 0]</td>\n",
        "      <td> 0</td>\n",
        "      <td> 0</td>\n",
        "      <td> 1</td>\n",
        "      <td> 2</td>\n",
        "      <td>...</td>\n",
        "      <td> 0</td>\n",
        "      <td> 2</td>\n",
        "      <td> 0</td>\n",
        "      <td> 0</td>\n",
        "      <td> 0</td>\n",
        "      <td> 2</td>\n",
        "      <td> 0</td>\n",
        "      <td> 0</td>\n",
        "      <td> 0</td>\n",
        "      <td> 0</td>\n",
        "    </tr>\n",
        "    <tr>\n",
        "      <th>2368</th>\n",
        "      <td>    Mage</td>\n",
        "      <td> Tournament</td>\n",
        "      <td> 2</td>\n",
        "      <td> 5640</td>\n",
        "      <td>2015-03-18 10:23:55</td>\n",
        "      <td>  [0, 3, 8, 5, 5, 0, 2, 7]</td>\n",
        "      <td> 0</td>\n",
        "      <td> 0</td>\n",
        "      <td> 0</td>\n",
        "      <td> 0</td>\n",
        "      <td>...</td>\n",
        "      <td> 0</td>\n",
        "      <td> 0</td>\n",
        "      <td> 0</td>\n",
        "      <td> 0</td>\n",
        "      <td> 0</td>\n",
        "      <td> 0</td>\n",
        "      <td> 0</td>\n",
        "      <td> 0</td>\n",
        "      <td> 0</td>\n",
        "      <td> 0</td>\n",
        "    </tr>\n",
        "  </tbody>\n",
        "</table>\n",
        "<p>5 rows \u00d7 572 columns</p>\n",
        "</div>"
       ],
       "metadata": {},
       "output_type": "pyout",
       "prompt_number": 12,
       "text": [
        "        Class   Deck Type  Rating  Dust             Updated  \\\n",
        "2364  Paladin     Control       2  8560 2015-03-21 05:00:52   \n",
        "2365    Druid     Control       2  5580 2015-03-18 09:53:53   \n",
        "2366    Druid        None       2  4920 2015-03-18 09:04:29   \n",
        "2367    Druid        None       2  1720 2015-03-18 09:50:32   \n",
        "2368     Mage  Tournament       2  5640 2015-03-18 10:23:55   \n",
        "\n",
        "                     Mana Curve  Abomination  Abusive Sergeant  \\\n",
        "2364   [0, 1, 6, 7, 6, 3, 1, 6]            0                 0   \n",
        "2365   [1, 1, 9, 5, 6, 4, 1, 3]            0                 0   \n",
        "2366  [0, 2, 4, 8, 10, 3, 0, 3]            0                 0   \n",
        "2367  [4, 4, 8, 10, 4, 0, 0, 0]            0                 0   \n",
        "2368   [0, 3, 8, 5, 5, 0, 2, 7]            0                 0   \n",
        "\n",
        "      Acidic Swamp Ooze  Acolyte of Pain       ...         Windspeaker  Wisp  \\\n",
        "2364                  0                0       ...                   0     0   \n",
        "2365                  0                0       ...                   0     0   \n",
        "2366                  0                0       ...                   0     0   \n",
        "2367                  1                2       ...                   0     2   \n",
        "2368                  0                0       ...                   0     0   \n",
        "\n",
        "      Wolfrider  Worgen Infiltrator  Wrath  Young Dragonhawk  Young Priestess  \\\n",
        "2364          0                   0      0                 0                0   \n",
        "2365          0                   0      2                 0                0   \n",
        "2366          0                   0      2                 0                0   \n",
        "2367          0                   0      0                 2                0   \n",
        "2368          0                   0      0                 0                0   \n",
        "\n",
        "      Youthful Brewmaster  Ysera  Zombie Chow  \n",
        "2364                    0      0            1  \n",
        "2365                    0      0            1  \n",
        "2366                    0      0            0  \n",
        "2367                    0      0            0  \n",
        "2368                    0      0            0  \n",
        "\n",
        "[5 rows x 572 columns]"
       ]
      }
     ],
     "prompt_number": 12
    },
    {
     "cell_type": "code",
     "collapsed": false,
     "input": [],
     "language": "python",
     "metadata": {},
     "outputs": []
    }
   ],
   "metadata": {}
  }
 ]
}