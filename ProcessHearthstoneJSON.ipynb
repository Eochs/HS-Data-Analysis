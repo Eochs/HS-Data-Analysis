{
 "metadata": {
  "name": "",
  "signature": "sha256:e5e71f6311cbb9f504eac4d9301c1b73c90258472377d6ea3289dc74da74cb43"
 },
 "nbformat": 3,
 "nbformat_minor": 0,
 "worksheets": [
  {
   "cells": [
    {
     "cell_type": "markdown",
     "metadata": {},
     "source": [
      "Code for processing the data at hearthstonejson.com."
     ]
    },
    {
     "cell_type": "code",
     "collapsed": false,
     "input": [
      "# Get all card names from HearthstoneJSON\n",
      "import urllib2 # module to read in HTML\n",
      "import json # \n",
      "\n",
      "url = 'http://hearthstonejson.com/json/AllSets.json'\n",
      "data = urllib2.urlopen(url).read()\n",
      "hs_json = json.loads(data.decode('utf-8'))"
     ],
     "language": "python",
     "metadata": {},
     "outputs": [],
     "prompt_number": 1
    },
    {
     "cell_type": "markdown",
     "metadata": {},
     "source": [
      "Data consists of every set of Hearthstone cards; including those not collectible by players."
     ]
    },
    {
     "cell_type": "code",
     "collapsed": false,
     "input": [
      "hs_json.keys()"
     ],
     "language": "python",
     "metadata": {},
     "outputs": [
      {
       "metadata": {},
       "output_type": "pyout",
       "prompt_number": 2,
       "text": [
        "[u'Missions',\n",
        " u'Classic',\n",
        " u'Curse of Naxxramas',\n",
        " u'System',\n",
        " u'Credits',\n",
        " u'Blackrock Mountain',\n",
        " u'Basic',\n",
        " u'Debug',\n",
        " u'Promotion',\n",
        " u'Reward',\n",
        " u'Goblins vs Gnomes']"
       ]
      }
     ],
     "prompt_number": 2
    },
    {
     "cell_type": "code",
     "collapsed": false,
     "input": [
      "card_names_set = set()\n",
      "for card_set in hs_json.keys():\n",
      "    for card_json in hs_json[card_set]:\n",
      "        try: # some cards may not have 'collectible' in keys\n",
      "            if card_json['collectible']:\n",
      "                card_names_set.add(card_json['name'])\n",
      "        except:\n",
      "            pass\n",
      "\n",
      "card_names = list(card_names_set)\n",
      "card_names.sort()\n",
      "print len(card_names) \n",
      "print card_names[:10]"
     ],
     "language": "python",
     "metadata": {},
     "outputs": [
      {
       "output_type": "stream",
       "stream": "stdout",
       "text": [
        "575\n",
        "[u'Abomination', u'Abusive Sergeant', u'Acidic Swamp Ooze', u'Acolyte of Pain', u\"Al'Akir the Windlord\", u'Alarm-o-Bot', u'Aldor Peacekeeper', u'Alexstrasza', u'Amani Berserker', u\"Ancestor's Call\"]\n"
       ]
      }
     ],
     "prompt_number": 3
    },
    {
     "cell_type": "code",
     "collapsed": false,
     "input": [
      "# Remove Hero names from list\n",
      "card_names.remove('Rexxar')\n",
      "card_names.remove('Malfurion Stormrage')\n",
      "card_names.remove('Jaina Proudmoore')\n",
      "card_names.remove('Uther Lightbringer')\n",
      "card_names.remove('Anduin Wrynn')\n",
      "card_names.remove('Valeera Sanguinar')\n",
      "card_names.remove('Thrall')\n",
      "card_names.remove(\"Gul'dan\")\n",
      "card_names.remove('Garrosh Hellscream')\n",
      "len(card_names)"
     ],
     "language": "python",
     "metadata": {},
     "outputs": [
      {
       "metadata": {},
       "output_type": "pyout",
       "prompt_number": 4,
       "text": [
        "566"
       ]
      }
     ],
     "prompt_number": 4
    },
    {
     "cell_type": "code",
     "collapsed": false,
     "input": [
      "# Write card names to csv file \"card_names.csv\"\n",
      "\n",
      "import csv\n",
      "\n",
      "with open('card_names', 'wb') as myfile:\n",
      "    wr = csv.writer(myfile, quoting=csv.QUOTE_ALL)\n",
      "    wr.writerow(card_names)"
     ],
     "language": "python",
     "metadata": {},
     "outputs": [],
     "prompt_number": 5
    }
   ],
   "metadata": {}
  }
 ]
}